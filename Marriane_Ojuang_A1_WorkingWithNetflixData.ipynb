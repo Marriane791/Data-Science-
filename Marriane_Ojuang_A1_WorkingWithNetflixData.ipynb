{
 "cells": [
  {
   "cell_type": "code",
   "execution_count": 2,
   "metadata": {},
   "outputs": [],
   "source": [
    "import pandas as pd\n",
    "netflix_data = pd.read_csv (\"NetflixViewingHistory.csv\")"
   ]
  },
  {
   "cell_type": "code",
   "execution_count": 4,
   "metadata": {},
   "outputs": [
    {
     "data": {
      "text/plain": [
       "1972"
      ]
     },
     "execution_count": 4,
     "metadata": {},
     "output_type": "execute_result"
    }
   ],
   "source": [
    "#How many entries AKA rows are in the data?\n",
    "netflix_data.shape[0]"
   ]
  },
  {
   "cell_type": "code",
   "execution_count": 5,
   "metadata": {},
   "outputs": [
    {
     "data": {
      "text/plain": [
       "2"
      ]
     },
     "execution_count": 5,
     "metadata": {},
     "output_type": "execute_result"
    }
   ],
   "source": [
    "#How many columns are in the data?\n",
    "netflix_data.shape[1]"
   ]
  },
  {
   "cell_type": "code",
   "execution_count": 29,
   "metadata": {},
   "outputs": [
    {
     "data": {
      "text/plain": [
       "'Russian Doll: Season 2: Station to Station'"
      ]
     },
     "execution_count": 29,
     "metadata": {},
     "output_type": "execute_result"
    }
   ],
   "source": [
    "#What is the name of the first column in the data?\n",
    "netflix_data[\"Title\"].iloc[0]"
   ]
  },
  {
   "cell_type": "code",
   "execution_count": 30,
   "metadata": {},
   "outputs": [
    {
     "data": {
      "text/plain": [
       "'Russian Doll: Season 2: Brain Drain'"
      ]
     },
     "execution_count": 30,
     "metadata": {},
     "output_type": "execute_result"
    }
   ],
   "source": [
    "#What is the name of the second column in the data?\n",
    "netflix_data[\"Title\"].iloc[1]"
   ]
  },
  {
   "cell_type": "code",
   "execution_count": 25,
   "metadata": {},
   "outputs": [],
   "source": [
    "#How many times was an episode of the show Designated Survivor watched according to the data?\n",
    "#Function\n",
    "def times_watched(title):\n",
    "    return \"Designated Survivor\" in title"
   ]
  },
  {
   "cell_type": "code",
   "execution_count": 26,
   "metadata": {},
   "outputs": [
    {
     "data": {
      "text/plain": [
       "10"
      ]
     },
     "execution_count": 26,
     "metadata": {},
     "output_type": "execute_result"
    }
   ],
   "source": [
    "netflix_data[\"Title\"].apply(times_watched).sum()"
   ]
  },
  {
   "cell_type": "code",
   "execution_count": 16,
   "metadata": {},
   "outputs": [
    {
     "data": {
      "text/plain": [
       "'1/8/21'"
      ]
     },
     "execution_count": 16,
     "metadata": {},
     "output_type": "execute_result"
    }
   ],
   "source": [
    "#When was the starting date of watching the show Bridgerton according to the data?\n",
    "df = netflix_data.loc[[\"Bridgerton\" in title for title in netflix_data[\"Title\"]],:].sort_values(\"Date\",ascending=True)\n",
    "df[\"Date\"].iloc[0]"
   ]
  },
  {
   "cell_type": "code",
   "execution_count": 18,
   "metadata": {},
   "outputs": [
    {
     "data": {
      "text/plain": [
       "'Bridgerton: Season 1: An Affair of Honor'"
      ]
     },
     "execution_count": 18,
     "metadata": {},
     "output_type": "execute_result"
    }
   ],
   "source": [
    "#What is the title of the first episode of the show Bridgerton watched according to the data?\n",
    "first = netflix_data.loc[[\"Bridgerton\" in title for title in netflix_data[\"Title\"]],:].sort_values(\"Date\",ascending=True)\n",
    "first[\"Title\"].iloc[0]"
   ]
  },
  {
   "cell_type": "code",
   "execution_count": 20,
   "metadata": {},
   "outputs": [
    {
     "data": {
      "text/plain": [
       "'4/4/22'"
      ]
     },
     "execution_count": 20,
     "metadata": {},
     "output_type": "execute_result"
    }
   ],
   "source": [
    "#When was the last date of watching the show Bridgerton according to the data?\n",
    "last = netflix_data.loc[[\"Bridgerton\" in title for title in netflix_data[\"Title\"]],:].sort_values(\"Date\",ascending=False)\n",
    "last[\"Date\"].iloc[0]"
   ]
  },
  {
   "cell_type": "code",
   "execution_count": 21,
   "metadata": {},
   "outputs": [
    {
     "data": {
      "text/plain": [
       "'Bridgerton: Season 2: The Viscount Who Loved Me'"
      ]
     },
     "execution_count": 21,
     "metadata": {},
     "output_type": "execute_result"
    }
   ],
   "source": [
    "#What is the title of the last episode of the show Bridgerton watched according to the data?\n",
    "last[\"Title\"].iloc[0]\n"
   ]
  },
  {
   "cell_type": "code",
   "execution_count": null,
   "metadata": {},
   "outputs": [],
   "source": [
    "aka = netflix_data.loc[[\"AKA\" in title for title in netflix_data[\"Title\"]],:].sort_values(\"Date\",ascending=True)\n",
    "aka[\"Title\"].iloc[0]"
   ]
  }
 ],
 "metadata": {
  "interpreter": {
   "hash": "8e5fa10513268fc2a4f7c026497325a8c4ffd9481f2b9a8068847912894eb81c"
  },
  "kernelspec": {
   "display_name": "Python 3.8.8 ('base')",
   "language": "python",
   "name": "python3"
  },
  "language_info": {
   "codemirror_mode": {
    "name": "ipython",
    "version": 3
   },
   "file_extension": ".py",
   "mimetype": "text/x-python",
   "name": "python",
   "nbconvert_exporter": "python",
   "pygments_lexer": "ipython3",
   "version": "3.8.8"
  },
  "orig_nbformat": 4
 },
 "nbformat": 4,
 "nbformat_minor": 2
}
